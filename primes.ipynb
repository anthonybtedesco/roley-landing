from itertools import combinations
from math import gcd

def is_relatively_prime(numbers):
    for i in range(len(numbers)):
        for j in range(i + 1, len(numbers)):
            if gcd(numbers[i], numbers[j]) != 1:
                return False
    return True

def find_combinations(sum_target):
    result = []
    for r in range(1, sum_target):
        for combo in combinations(range(1, sum_target), r):
            if sum(combo) == sum_target and is_relatively_prime(combo):
                result.append(combo)
    return result

target_sum = 20
combinations_result = find_combinations(target_sum)

print(f"All combinations of numbers that are relatively prime and add up to {target_sum}:")
for combo in combinations_result:
    print(combo)
